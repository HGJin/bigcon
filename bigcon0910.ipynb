{
 "cells": [
  {
   "cell_type": "code",
   "execution_count": 4,
   "id": "98d7c176",
   "metadata": {},
   "outputs": [],
   "source": [
    "import numpy as np\n",
    "import pandas as pd\n",
    "import re"
   ]
  },
  {
   "cell_type": "code",
   "execution_count": 5,
   "id": "3b85bc7e",
   "metadata": {},
   "outputs": [],
   "source": [
    "file_path = r'C:\\Users\\Hwang\\Downloads\\예술의전당.csv'"
   ]
  },
  {
   "cell_type": "code",
   "execution_count": 6,
   "id": "75af86ab",
   "metadata": {},
   "outputs": [],
   "source": [
    "price_data = pd.read_csv(file_path)\n",
    "# price_data.info()"
   ]
  },
  {
   "cell_type": "code",
   "execution_count": 15,
   "id": "3df881aa",
   "metadata": {},
   "outputs": [],
   "source": [
    "# 콘서트홀만 출력\n",
    "concert_data = price_data[price_data['place'] == '콘서트홀'] \n",
    "# concert_data.info()"
   ]
  },
  {
   "cell_type": "code",
   "execution_count": 18,
   "id": "892f4df6",
   "metadata": {},
   "outputs": [
    {
     "name": "stderr",
     "output_type": "stream",
     "text": [
      "C:\\Users\\Hwang\\AppData\\Local\\Temp\\ipykernel_2260\\1220535858.py:1: SettingWithCopyWarning: \n",
      "A value is trying to be set on a copy of a slice from a DataFrame.\n",
      "Try using .loc[row_indexer,col_indexer] = value instead\n",
      "\n",
      "See the caveats in the documentation: https://pandas.pydata.org/pandas-docs/stable/user_guide/indexing.html#returning-a-view-versus-a-copy\n",
      "  concert_data['floor'] = np.where(concert_data['seat'].str.contains('1층'),'1층',\n",
      "C:\\Users\\Hwang\\AppData\\Local\\Temp\\ipykernel_2260\\1220535858.py:10: SettingWithCopyWarning: \n",
      "A value is trying to be set on a copy of a slice from a DataFrame.\n",
      "Try using .loc[row_indexer,col_indexer] = value instead\n",
      "\n",
      "See the caveats in the documentation: https://pandas.pydata.org/pandas-docs/stable/user_guide/indexing.html#returning-a-view-versus-a-copy\n",
      "  concert_data['block'] = np.select(list_condition, list_str)\n"
     ]
    }
   ],
   "source": [
    "concert_data['floor'] = np.where(concert_data['seat'].str.contains('1층'),'1층',\n",
    "                              np.where(concert_data['seat'].str.contains('2층'),'2층',\n",
    "                                       np.where(concert_data['seat'].str.contains('3층'),'3층','합창석')))\n",
    "block = ['BOX1','BOX2','BOX3','BOX4','BOX5','BOX6','BOX7','BOX8','BOX9','BOX10','BOX11','BOX12','A','B','C','D','E','F','G','M','N',]\n",
    "list_condition = []\n",
    "list_str = []\n",
    "for i in block:\n",
    "    list_condition.append(concert_data['seat'].str.contains(i))  ## 조건문 리스트에 저장\n",
    "    list_str.append(i)                                        ## 조건에 맞게 반환할 값 저장\n",
    "concert_data['block'] = np.select(list_condition, list_str)"
   ]
  },
  {
   "cell_type": "code",
   "execution_count": 19,
   "id": "e1ca23bb",
   "metadata": {},
   "outputs": [],
   "source": [
    "necessary = concert_data[['age', 'gender', 'price', 'ticket_cancel',\n",
    "                          'discount_type','performance_code',\n",
    "                          'genre', 'member_yn', 'floor', 'block']]"
   ]
  },
  {
   "cell_type": "code",
   "execution_count": 20,
   "id": "e0a7068f",
   "metadata": {},
   "outputs": [
    {
     "name": "stdout",
     "output_type": "stream",
     "text": [
      "<class 'pandas.core.frame.DataFrame'>\n",
      "Int64Index: 864120 entries, 4 to 1920864\n",
      "Data columns (total 8 columns):\n",
      " #   Column            Non-Null Count   Dtype  \n",
      "---  ------            --------------   -----  \n",
      " 0   age               289698 non-null  float64\n",
      " 1   gender            290011 non-null  object \n",
      " 2   price             864120 non-null  int64  \n",
      " 3   discount_type     864120 non-null  object \n",
      " 4   performance_code  864120 non-null  int64  \n",
      " 5   genre             843988 non-null  object \n",
      " 6   floor             864120 non-null  object \n",
      " 7   block             864120 non-null  object \n",
      "dtypes: float64(1), int64(2), object(5)\n",
      "memory usage: 59.3+ MB\n"
     ]
    }
   ],
   "source": [
    "necessary = necessary[necessary['ticket_cancel'] == 0]\n",
    "necessary = necessary.drop(['ticket_cancel', 'member_yn'], axis = 1)\n",
    "necessary.info()"
   ]
  },
  {
   "cell_type": "code",
   "execution_count": 21,
   "id": "7105652a",
   "metadata": {},
   "outputs": [
    {
     "data": {
      "text/plain": [
       "age                 574422\n",
       "gender              574109\n",
       "price                    0\n",
       "discount_type            0\n",
       "performance_code         0\n",
       "genre                20132\n",
       "floor                    0\n",
       "block                    0\n",
       "dtype: int64"
      ]
     },
     "execution_count": 21,
     "metadata": {},
     "output_type": "execute_result"
    }
   ],
   "source": [
    "necessary.isnull().sum()"
   ]
  },
  {
   "cell_type": "code",
   "execution_count": 22,
   "id": "3b9e82e5",
   "metadata": {},
   "outputs": [
    {
     "data": {
      "text/plain": [
       "age                 0\n",
       "gender              0\n",
       "price               0\n",
       "discount_type       0\n",
       "performance_code    0\n",
       "genre               0\n",
       "floor               0\n",
       "block               0\n",
       "dtype: int64"
      ]
     },
     "execution_count": 22,
     "metadata": {},
     "output_type": "execute_result"
    }
   ],
   "source": [
    "notnull = necessary.dropna()\n",
    "notnull.isnull().sum()\n",
    "notnull.info()"
   ]
  },
  {
   "cell_type": "code",
   "execution_count": 24,
   "id": "87d39d81",
   "metadata": {},
   "outputs": [
    {
     "name": "stdout",
     "output_type": "stream",
     "text": [
      "<class 'pandas.core.frame.DataFrame'>\n",
      "Int64Index: 282865 entries, 4 to 1920864\n",
      "Data columns (total 8 columns):\n",
      " #   Column            Non-Null Count   Dtype  \n",
      "---  ------            --------------   -----  \n",
      " 0   age               282865 non-null  float64\n",
      " 1   gender            282865 non-null  object \n",
      " 2   price             282865 non-null  int64  \n",
      " 3   discount_type     282865 non-null  object \n",
      " 4   performance_code  282865 non-null  int64  \n",
      " 5   genre             282865 non-null  object \n",
      " 6   floor             282865 non-null  object \n",
      " 7   block             282865 non-null  object \n",
      "dtypes: float64(1), int64(2), object(5)\n",
      "memory usage: 19.4+ MB\n"
     ]
    }
   ],
   "source": [
    "notnull = notnull[notnull['price'] != 0]\n",
    "notnull.info()"
   ]
  },
  {
   "cell_type": "code",
   "execution_count": 25,
   "id": "3f95efae",
   "metadata": {},
   "outputs": [],
   "source": [
    "notnull.loc[notnull['discount_type'] == '일반', 'discount_type'] = '0%'"
   ]
  },
  {
   "cell_type": "code",
   "execution_count": 27,
   "id": "1f878bef",
   "metadata": {},
   "outputs": [
    {
     "name": "stdout",
     "output_type": "stream",
     "text": [
      "<class 'pandas.core.frame.DataFrame'>\n",
      "Int64Index: 274452 entries, 4 to 1920864\n",
      "Data columns (total 9 columns):\n",
      " #   Column            Non-Null Count   Dtype  \n",
      "---  ------            --------------   -----  \n",
      " 0   age               274452 non-null  float64\n",
      " 1   gender            274452 non-null  object \n",
      " 2   price             274452 non-null  int64  \n",
      " 3   discount_type     274452 non-null  object \n",
      " 4   performance_code  274452 non-null  int64  \n",
      " 5   genre             274452 non-null  object \n",
      " 6   floor             274452 non-null  object \n",
      " 7   block             274452 non-null  object \n",
      " 8   percentage        274452 non-null  object \n",
      "dtypes: float64(1), int64(2), object(6)\n",
      "memory usage: 20.9+ MB\n"
     ]
    }
   ],
   "source": [
    "notnull = notnull[notnull['discount_type'].str.contains('%')]\n",
    "temp = notnull[notnull['discount_type'].str.contains('%')]['discount_type']\n",
    "\n",
    "percentage = [re.sub(r'[^0-9]', '', x.split('%')[0][-3:]) for x in list(temp)]\n",
    "percentage\n",
    "\n",
    "notnull['percentage'] = percentage\n",
    "notnull.info()"
   ]
  }
 ],
 "metadata": {
  "kernelspec": {
   "display_name": "Python 3 (ipykernel)",
   "language": "python",
   "name": "python3"
  },
  "language_info": {
   "codemirror_mode": {
    "name": "ipython",
    "version": 3
   },
   "file_extension": ".py",
   "mimetype": "text/x-python",
   "name": "python",
   "nbconvert_exporter": "python",
   "pygments_lexer": "ipython3",
   "version": "3.11.4"
  }
 },
 "nbformat": 4,
 "nbformat_minor": 5
}
