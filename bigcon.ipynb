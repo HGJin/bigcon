{
 "cells": [
  {
   "cell_type": "code",
   "execution_count": 2,
   "id": "98d7c176",
   "metadata": {},
   "outputs": [],
   "source": [
    "import numpy as np\n",
    "import pandas as pd\n",
    "import re"
   ]
  },
  {
   "cell_type": "code",
   "execution_count": 4,
   "id": "3b85bc7e",
   "metadata": {},
   "outputs": [],
   "source": [
    "file_path = r'C:\\Users\\Hwang\\Downloads\\예술의전당.csv'"
   ]
  },
  {
   "cell_type": "code",
   "execution_count": 5,
   "id": "75af86ab",
   "metadata": {},
   "outputs": [],
   "source": [
    "price_data = pd.read_csv(file_path)"
   ]
  },
  {
   "cell_type": "code",
   "execution_count": 6,
   "id": "4c6fc905",
   "metadata": {},
   "outputs": [
    {
     "name": "stdout",
     "output_type": "stream",
     "text": [
      "<class 'pandas.core.frame.DataFrame'>\n",
      "RangeIndex: 1920868 entries, 0 to 1920867\n",
      "Data columns (total 24 columns):\n",
      " #   Column             Dtype  \n",
      "---  ------             -----  \n",
      " 0   age                float64\n",
      " 1   gender             object \n",
      " 2   membership_type_1  object \n",
      " 3   membership_type_2  object \n",
      " 4   membership_type_3  object \n",
      " 5   membership_type_4  object \n",
      " 6   membership_type_5  object \n",
      " 7   membership_type_6  float64\n",
      " 8   tran_date          int64  \n",
      " 9   tran_time          int64  \n",
      " 10  play_date          int64  \n",
      " 11  play_st_time       int64  \n",
      " 12  seat               object \n",
      " 13  price              int64  \n",
      " 14  ticket_cancel      int64  \n",
      " 15  discount_type      object \n",
      " 16  performance_code   int64  \n",
      " 17  pre_open_date      float64\n",
      " 18  open_date          float64\n",
      " 19  genre              object \n",
      " 20  place              object \n",
      " 21  running_time       int64  \n",
      " 22  intermission       int64  \n",
      " 23  member_yn          object \n",
      "dtypes: float64(4), int64(9), object(11)\n",
      "memory usage: 351.7+ MB\n"
     ]
    }
   ],
   "source": [
    "price_data.info()"
   ]
  },
  {
   "cell_type": "code",
   "execution_count": 9,
   "id": "3df881aa",
   "metadata": {},
   "outputs": [],
   "source": [
    "# 콘서트홀만 출력\n",
    "# concert_data = price_data[price_data['place'] == '콘서트홀'] \n",
    "# concert_data.info()"
   ]
  },
  {
   "cell_type": "code",
   "execution_count": null,
   "id": "e1ca23bb",
   "metadata": {},
   "outputs": [],
   "source": []
  }
 ],
 "metadata": {
  "kernelspec": {
   "display_name": "Python 3 (ipykernel)",
   "language": "python",
   "name": "python3"
  },
  "language_info": {
   "codemirror_mode": {
    "name": "ipython",
    "version": 3
   },
   "file_extension": ".py",
   "mimetype": "text/x-python",
   "name": "python",
   "nbconvert_exporter": "python",
   "pygments_lexer": "ipython3",
   "version": "3.11.4"
  }
 },
 "nbformat": 4,
 "nbformat_minor": 5
}
